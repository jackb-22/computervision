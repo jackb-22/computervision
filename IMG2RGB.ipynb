{
 "cells": [
  {
   "cell_type": "code",
   "execution_count": 13,
   "metadata": {},
   "outputs": [],
   "source": [
    "import os\n",
    "from PIL import Image\n",
    "import numpy as np\n",
    "import pandas as pd"
   ]
  },
  {
   "cell_type": "code",
   "execution_count": 14,
   "metadata": {},
   "outputs": [],
   "source": [
    "def image_to_flattened_array(image_path, target_size):\n",
    "    try:\n",
    "        img = Image.open(image_path)\n",
    "        img = img.convert('RGB')\n",
    "        img = img.resize(target_size)\n",
    "        img_array = np.array(img)\n",
    "        flattened_pixels = img_array.flatten()\n",
    "        return flattened_pixels\n",
    "    except (OSError, ValueError) as e:\n",
    "        print(f\"Error processing {image_path}: {e}\")\n",
    "        return None"
   ]
  },
  {
   "cell_type": "code",
   "execution_count": 15,
   "metadata": {},
   "outputs": [],
   "source": [
    "def process_images_from_folder(folder_path, target_size):\n",
    "    image_data = []\n",
    "    for file_name in os.listdir(folder_path):\n",
    "        if file_name.lower().endswith(('.png', '.jpg', '.jpeg', '.bmp', '.gif')):  \n",
    "            image_path = os.path.join(folder_path, file_name)\n",
    "            flattened_pixels = image_to_flattened_array(image_path, target_size)\n",
    "            if flattened_pixels is not None:\n",
    "                image_data.append([file_name] + list(flattened_pixels))\n",
    "    df = pd.DataFrame(image_data)\n",
    "    df.rename(columns={0: 'File Name'}, inplace=True)\n",
    "    return df"
   ]
  },
  {
   "cell_type": "code",
   "execution_count": 16,
   "metadata": {},
   "outputs": [
    {
     "name": "stdout",
     "output_type": "stream",
     "text": [
      "Error processing /Users/jacksb/github-classroom/iSTAREducation/sml-mid-term-assignemnts-jackb-22/data/Datasets/car/181535.jpg: cannot identify image file '/Users/jacksb/github-classroom/iSTAREducation/sml-mid-term-assignemnts-jackb-22/data/Datasets/car/181535.jpg'\n"
     ]
    }
   ],
   "source": [
    "folder1 = '/Users/jacksb/github-classroom/iSTAREducation/sml-mid-term-assignemnts-jackb-22/data/Datasets/car'\n",
    "folder2 = '/Users/jacksb/github-classroom/iSTAREducation/sml-mid-term-assignemnts-jackb-22/data/Datasets/truck'\n",
    "target_size = (64, 64)\n",
    "df1 = process_images_from_folder(folder1, target_size)\n",
    "df2 = process_images_from_folder(folder2, target_size)\n",
    "df_combined = pd.concat([df1, df2], ignore_index=True)"
   ]
  },
  {
   "cell_type": "code",
   "execution_count": 17,
   "metadata": {},
   "outputs": [
    {
     "name": "stdout",
     "output_type": "stream",
     "text": [
      "CSV file saved at: image_data.csv\n"
     ]
    }
   ],
   "source": [
    "output_csv_path = 'image_data.csv'\n",
    "df_combined.to_csv(output_csv_path, index=False)\n",
    "print(f\"CSV file saved at: {output_csv_path}\")"
   ]
  }
 ],
 "metadata": {
  "kernelspec": {
   "display_name": "Python 3",
   "language": "python",
   "name": "python3"
  },
  "language_info": {
   "codemirror_mode": {
    "name": "ipython",
    "version": 3
   },
   "file_extension": ".py",
   "mimetype": "text/x-python",
   "name": "python",
   "nbconvert_exporter": "python",
   "pygments_lexer": "ipython3",
   "version": "3.12.1"
  }
 },
 "nbformat": 4,
 "nbformat_minor": 2
}
