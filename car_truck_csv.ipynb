{
 "cells": [
  {
   "cell_type": "code",
   "execution_count": 18,
   "metadata": {},
   "outputs": [],
   "source": [
    "import pandas as pd\n",
    "import os"
   ]
  },
  {
   "cell_type": "code",
   "execution_count": 19,
   "metadata": {},
   "outputs": [
    {
     "name": "stdout",
     "output_type": "stream",
     "text": [
      "391\n",
      "396\n"
     ]
    }
   ],
   "source": [
    "df = pd.read_csv('image_data.csv')\n",
    "df.columns\n",
    "\n",
    "lst = os.listdir('/Users/jacksb/github-classroom/iSTAREducation/sml-mid-term-assignemnts-jackb-22/data/Datasets/car')\n",
    "number_files = len(lst)\n",
    "print(number_files)\n",
    "lst2 = os.listdir('/Users/jacksb/github-classroom/iSTAREducation/sml-mid-term-assignemnts-jackb-22/data/Datasets/truck')\n",
    "number_files2 = len(lst2)\n",
    "print(number_files2)"
   ]
  },
  {
   "cell_type": "code",
   "execution_count": 26,
   "metadata": {},
   "outputs": [],
   "source": [
    "df.shape\n",
    "labels = ['car'] * number_files + ['truck'] * number_files2\n",
    "df.insert(0, 'Label', labels)"
   ]
  },
  {
   "cell_type": "code",
   "execution_count": 27,
   "metadata": {},
   "outputs": [
    {
     "name": "stdout",
     "output_type": "stream",
     "text": [
      "  Label    1    2    3    4    5    6    7    8    9  ...  49143  49144  \\\n",
      "0   car  255  255  255  255  255  255  255  255  255  ...    147    149   \n",
      "1   car   20   19   30   20   18   24   20   20   25  ...     45     35   \n",
      "2   car  184  110   51  184  105   50  184  103   49  ...     64     72   \n",
      "3   car  241  242  241  240  242  241  240  242  241  ...     98    130   \n",
      "4   car   12   10    7   27   21   11   16   12    7  ...    135     73   \n",
      "\n",
      "   49145  49146  49147  49148  49149  49150  49151  49152  \n",
      "0    150    140    138    138    128    127    127    114  \n",
      "1     35     45     34     36     44     34     35     44  \n",
      "2     64     66     76     70     74     81     70     73  \n",
      "3    112     98    130    112     98    130    111     97  \n",
      "4     95    136     81    102    136     81    105    142  \n",
      "\n",
      "[5 rows x 49153 columns]\n"
     ]
    }
   ],
   "source": [
    "df.to_csv('image_data.csv', index=False)\n",
    "print(df.head())"
   ]
  }
 ],
 "metadata": {
  "kernelspec": {
   "display_name": "Python 3",
   "language": "python",
   "name": "python3"
  },
  "language_info": {
   "codemirror_mode": {
    "name": "ipython",
    "version": 3
   },
   "file_extension": ".py",
   "mimetype": "text/x-python",
   "name": "python",
   "nbconvert_exporter": "python",
   "pygments_lexer": "ipython3",
   "version": "3.12.1"
  }
 },
 "nbformat": 4,
 "nbformat_minor": 2
}
