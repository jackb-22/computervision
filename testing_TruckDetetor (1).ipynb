{
 "cells": [
  {
   "cell_type": "code",
   "execution_count": 27,
   "metadata": {},
   "outputs": [
    {
     "name": "stderr",
     "output_type": "stream",
     "text": [
      "e:\\Projects\\SML_Lab\\SML_Assignments\\.venv\\Lib\\site-packages\\sklearn\\base.py:380: InconsistentVersionWarning: Trying to unpickle estimator StandardScaler from version 1.5.2 when using version 1.6.0. This might lead to breaking code or invalid results. Use at your own risk. For more info please refer to:\n",
      "https://scikit-learn.org/stable/model_persistence.html#security-maintainability-limitations\n",
      "  warnings.warn(\n",
      "e:\\Projects\\SML_Lab\\SML_Assignments\\.venv\\Lib\\site-packages\\sklearn\\base.py:380: InconsistentVersionWarning: Trying to unpickle estimator SVC from version 1.5.2 when using version 1.6.0. This might lead to breaking code or invalid results. Use at your own risk. For more info please refer to:\n",
      "https://scikit-learn.org/stable/model_persistence.html#security-maintainability-limitations\n",
      "  warnings.warn(\n",
      "e:\\Projects\\SML_Lab\\SML_Assignments\\.venv\\Lib\\site-packages\\sklearn\\base.py:380: InconsistentVersionWarning: Trying to unpickle estimator Pipeline from version 1.5.2 when using version 1.6.0. This might lead to breaking code or invalid results. Use at your own risk. For more info please refer to:\n",
      "https://scikit-learn.org/stable/model_persistence.html#security-maintainability-limitations\n",
      "  warnings.warn(\n"
     ]
    },
    {
     "name": "stdout",
     "output_type": "stream",
     "text": [
      "[[105 117 128 ... 43 29 29]]\n",
      "['truck']\n"
     ]
    }
   ],
   "source": [
    "import joblib, pickle\n",
    "import pandas as pd\n",
    "import datapreprocessinginput as dp\n",
    "\n",
    "model_path = 'best_polynomial_svm.pkl'\n",
    "\n",
    "with open('best_polynomial_svm.pkl', 'rb') as f:\n",
    "    model = pickle.load(f)\n",
    "\n",
    "target_size = (64, 64)\n",
    "image_path = 'vehicle-move.jpg'\n",
    "#image_known = '..\\\\data\\\\Datasets\\\\truck\\\\405556.jpg'\n",
    "#image_known = '..\\\\data\\\\Datasets\\\\car\\\\17882.jpg'\n",
    "data_df = dp.process_single_image(image_path, target_size)\n",
    "input_data = data_df.values[:,1:]\n",
    "print(input_data)\n",
    "predictions = model.predict(input_data)\n",
    "print(predictions)\n",
    "\n",
    "\n"
   ]
  },
  {
   "cell_type": "code",
   "execution_count": null,
   "metadata": {},
   "outputs": [],
   "source": []
  }
 ],
 "metadata": {
  "kernelspec": {
   "display_name": ".venv",
   "language": "python",
   "name": "python3"
  },
  "language_info": {
   "codemirror_mode": {
    "name": "ipython",
    "version": 3
   },
   "file_extension": ".py",
   "mimetype": "text/x-python",
   "name": "python",
   "nbconvert_exporter": "python",
   "pygments_lexer": "ipython3",
   "version": "3.12.1"
  }
 },
 "nbformat": 4,
 "nbformat_minor": 2
}
